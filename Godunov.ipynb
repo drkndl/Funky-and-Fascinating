{
 "cells": [
  {
   "cell_type": "code",
   "execution_count": 2,
   "metadata": {},
   "outputs": [],
   "source": [
    "def  fgodunov ( ul , ur ):\n",
    "    if  ul >= ur : #Shock\n",
    "        s  =  0.5 * ( ul + ur )\n",
    "        if  s >= 0 :\n",
    "            z  =  ul ** 2 / 2\n",
    "            return  z\n",
    "        else :\n",
    "            z  =  ur ** 2 / 2\n",
    "            return  z\n",
    "        \n",
    "    else : #wave of rarefaction\n",
    "        if  ur < 0 :\n",
    "            z  =  ur ** 2 / 2\n",
    "            return  z\n",
    "        elif  ul < 0  and  ur > 0 :\n",
    "            z  =  0\n",
    "            return  z\n",
    "        elif  ul > 0 :\n",
    "            z  =  ul ** 2 / 2\n",
    "            return  z"
   ]
  },
  {
   "cell_type": "code",
   "execution_count": 4,
   "metadata": {},
   "outputs": [],
   "source": [
    "import  numpy  as  np\n",
    "\n",
    "def  godunov ( U0 , h , pt ):\n",
    "    cfl = 0.9\n",
    "    length = len ( U0 )\n",
    "\n",
    "    DU = np . zeros ( length )\n",
    "    \n",
    "    #Du [i] It will correspond to the increment that we are going to make\n",
    "    #Du [i] ---> F_ {i + 1/2} -F_ {i-1/2}    \n",
    "    \n",
    "    Umax = max ( U0 )\n",
    "    \n",
    "    #Now let's go through the intercells.\n",
    "    #The first and the last I treat them differently\n",
    "    #Well they lack a cell next to it\n",
    "\n",
    "    #First and last cell -> I duplicate the state (free border CC)\n",
    "\n",
    "    DU [ 0 ] = - fgodunov( U0 [ 0 ], U0 [ 0 ])\n",
    "    \n",
    "    for  i  in  range ( 0 , length - 1 ):\n",
    "        fIntercell = fgodunov ( U0 [ i ], U0 [ i + 1 ])\n",
    "        DU [ i ] += fIntercell\n",
    "        DU [ i + 1 ] -= fIntercell\n",
    "        \n",
    "\n",
    "    DU [ length - 1 ] += fgodunov ( U0 [ length - 1 ], U0 [ length - 1 ])\n",
    "        \n",
    "   \n",
    "    cotadt  =  cfl * h / Umax\n",
    "\n",
    "    if  cotadt > pt :\n",
    "        cotadt = pt\n",
    "    dth  =  float ( cotadt / h )\n",
    "    \n",
    "    U0 [:] = U0 - dth * DU    \n",
    "    \n",
    "    return  U0 , cotadt"
   ]
  },
  {
   "cell_type": "code",
   "execution_count": null,
   "metadata": {},
   "outputs": [],
   "source": []
  },
  {
   "cell_type": "code",
   "execution_count": null,
   "metadata": {},
   "outputs": [],
   "source": []
  }
 ],
 "metadata": {
  "kernelspec": {
   "display_name": "Python 3",
   "language": "python",
   "name": "python3"
  },
  "language_info": {
   "codemirror_mode": {
    "name": "ipython",
    "version": 3
   },
   "file_extension": ".py",
   "mimetype": "text/x-python",
   "name": "python",
   "nbconvert_exporter": "python",
   "pygments_lexer": "ipython3",
   "version": "3.7.6"
  }
 },
 "nbformat": 4,
 "nbformat_minor": 4
}
