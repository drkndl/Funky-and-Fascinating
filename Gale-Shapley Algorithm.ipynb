{
 "cells": [
  {
   "cell_type": "code",
   "execution_count": 2,
   "metadata": {},
   "outputs": [
    {
     "name": "stdout",
     "output_type": "stream",
     "text": [
      "{'Charlotte': ['Bingley', 'Darcy', 'Collins', 'Wickham'], 'Elizabeth': ['Wickham', 'Darcy', 'Bingley', 'Collins'], 'Jane': ['Bingley', 'Wickham', 'Darcy', 'Collins'], 'Lydia': ['Bingley', 'Wickham', 'Darcy', 'Collins']} {'Bingley': ['Jane', 'Elizabeth', 'Lydia', 'Charlotte'], 'Collins': ['Jane', 'Elizabeth', 'Lydia', 'Charlotte'], 'Darcy': ['Elizabeth', 'Jane', 'Charlotte', 'Lydia'], 'Wickham': ['Lydia', 'Jane', 'Elizabeth', 'Charlotte']}\n"
     ]
    }
   ],
   "source": [
    "import numpy as np\n",
    "\n",
    "women = {\"Charlotte\":[\"Bingley\", \"Darcy\", \"Collins\", \"Wickham\"], \n",
    "         \"Elizabeth\":[\"Wickham\", \"Darcy\", \"Bingley\", \"Collins\"], \n",
    "         \"Jane\":[\"Bingley\", \"Wickham\", \"Darcy\", \"Collins\"],\n",
    "         \"Lydia\":[\"Bingley\", \"Wickham\", \"Darcy\", \"Collins\"]}\n",
    "\n",
    "men = {\"Bingley\":[\"Jane\", \"Elizabeth\", \"Lydia\", \"Charlotte\"],\n",
    "      \"Collins\":[\"Jane\", \"Elizabeth\", \"Lydia\", \"Charlotte\"],\n",
    "      \"Darcy\":[\"Elizabeth\", \"Jane\", \"Charlotte\", \"Lydia\"],\n",
    "      \"Wickham\":[\"Lydia\", \"Jane\", \"Elizabeth\", \"Charlotte\"]}\n",
    "\n",
    "N=4\n",
    "print(women, men)"
   ]
  },
  {
   "cell_type": "code",
   "execution_count": 16,
   "metadata": {},
   "outputs": [
    {
     "ename": "KeyError",
     "evalue": "0",
     "output_type": "error",
     "traceback": [
      "\u001b[1;31m---------------------------------------------------------------------------\u001b[0m",
      "\u001b[1;31mKeyError\u001b[0m                                  Traceback (most recent call last)",
      "\u001b[1;32m<ipython-input-16-9c0a0d066a9d>\u001b[0m in \u001b[0;36m<module>\u001b[1;34m\u001b[0m\n\u001b[0;32m      6\u001b[0m         \u001b[1;31m#marriage\u001b[0m\u001b[1;33m\u001b[0m\u001b[1;33m\u001b[0m\u001b[1;33m\u001b[0m\u001b[0m\n\u001b[0;32m      7\u001b[0m \u001b[1;33m\u001b[0m\u001b[0m\n\u001b[1;32m----> 8\u001b[1;33m \u001b[0mGaleShapley\u001b[0m\u001b[1;33m(\u001b[0m\u001b[0mwomen\u001b[0m\u001b[1;33m,\u001b[0m \u001b[0mmen\u001b[0m\u001b[1;33m)\u001b[0m\u001b[1;33m\u001b[0m\u001b[1;33m\u001b[0m\u001b[0m\n\u001b[0m",
      "\u001b[1;32m<ipython-input-16-9c0a0d066a9d>\u001b[0m in \u001b[0;36mGaleShapley\u001b[1;34m(women, men)\u001b[0m\n\u001b[0;32m      1\u001b[0m \u001b[1;32mdef\u001b[0m \u001b[0mGaleShapley\u001b[0m\u001b[1;33m(\u001b[0m\u001b[0mwomen\u001b[0m\u001b[1;33m,\u001b[0m \u001b[0mmen\u001b[0m\u001b[1;33m)\u001b[0m\u001b[1;33m:\u001b[0m\u001b[1;33m\u001b[0m\u001b[1;33m\u001b[0m\u001b[0m\n\u001b[1;32m----> 2\u001b[1;33m     \u001b[0mprint\u001b[0m\u001b[1;33m(\u001b[0m\u001b[0mwomen\u001b[0m\u001b[1;33m[\u001b[0m\u001b[1;36m0\u001b[0m\u001b[1;33m]\u001b[0m\u001b[1;33m)\u001b[0m\u001b[1;33m\u001b[0m\u001b[1;33m\u001b[0m\u001b[0m\n\u001b[0m\u001b[0;32m      3\u001b[0m     \u001b[0mmarriage\u001b[0m \u001b[1;33m=\u001b[0m \u001b[1;33m{\u001b[0m\u001b[1;33m}\u001b[0m\u001b[1;33m\u001b[0m\u001b[1;33m\u001b[0m\u001b[0m\n\u001b[0;32m      4\u001b[0m     \u001b[1;32mfor\u001b[0m \u001b[0mwoman\u001b[0m\u001b[1;33m,\u001b[0m \u001b[0mpref\u001b[0m \u001b[1;32min\u001b[0m \u001b[0mwomen\u001b[0m\u001b[1;33m.\u001b[0m\u001b[0mitems\u001b[0m\u001b[1;33m(\u001b[0m\u001b[1;33m)\u001b[0m\u001b[1;33m:\u001b[0m\u001b[1;33m\u001b[0m\u001b[1;33m\u001b[0m\u001b[0m\n\u001b[0;32m      5\u001b[0m         \u001b[0mprint\u001b[0m\u001b[1;33m(\u001b[0m\u001b[0mwoman\u001b[0m\u001b[1;33m,\u001b[0m \u001b[0mpref\u001b[0m\u001b[1;33m[\u001b[0m\u001b[1;36m0\u001b[0m\u001b[1;33m]\u001b[0m\u001b[1;33m)\u001b[0m\u001b[1;33m\u001b[0m\u001b[1;33m\u001b[0m\u001b[0m\n",
      "\u001b[1;31mKeyError\u001b[0m: 0"
     ]
    }
   ],
   "source": [
    "def GaleShapley(women, men, N):\n",
    "    marriage = {}\n",
    "    n=0\n",
    "    while n<N:\n",
    "        if pref[N]==marriage[woman]:\n",
    "            \n",
    "        #print(woman, pref[N])\n",
    "        #marriage\n",
    "        \n",
    "GaleShapley(women, men, N)      "
   ]
  },
  {
   "cell_type": "code",
   "execution_count": null,
   "metadata": {},
   "outputs": [],
   "source": []
  }
 ],
 "metadata": {
  "kernelspec": {
   "display_name": "Python 3",
   "language": "python",
   "name": "python3"
  },
  "language_info": {
   "codemirror_mode": {
    "name": "ipython",
    "version": 3
   },
   "file_extension": ".py",
   "mimetype": "text/x-python",
   "name": "python",
   "nbconvert_exporter": "python",
   "pygments_lexer": "ipython3",
   "version": "3.7.6"
  }
 },
 "nbformat": 4,
 "nbformat_minor": 4
}
