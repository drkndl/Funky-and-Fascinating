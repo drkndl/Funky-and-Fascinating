{
 "cells": [
  {
   "cell_type": "code",
   "execution_count": 112,
   "metadata": {},
   "outputs": [],
   "source": [
    "import numpy as np\n",
    "import matplotlib.pyplot as plt\n",
    "from scipy import signal\n",
    "from matplotlib.animation import FuncAnimation"
   ]
  },
  {
   "cell_type": "code",
   "execution_count": 113,
   "metadata": {},
   "outputs": [],
   "source": [
    "# Laplacian matrix\n",
    "\n",
    "Del2 = np.array([[0.05, 0.2, 0.05], [0.2, -1, 0.2], [0.05, 0.2, 0.05]])"
   ]
  },
  {
   "cell_type": "code",
   "execution_count": 114,
   "metadata": {},
   "outputs": [],
   "source": [
    "# Parameters\n",
    "\n",
    "# Diffusion rates\n",
    "Da = 1.0\n",
    "Db = 0.5\n",
    "\n",
    "f = 0.055      # feed rate\n",
    "k = 0.062      # kill rate\n",
    "\n",
    "dt = 1.0       # Delta t between iterations\n",
    "n = 500        # Total number of iterations"
   ]
  },
  {
   "cell_type": "code",
   "execution_count": 115,
   "metadata": {},
   "outputs": [],
   "source": [
    "# Initializing grid with concentrations A and B\n",
    "\n",
    "x = 500\n",
    "y = 500\n",
    "A = np.ones((x, y))\n",
    "B_no_seed = np.zeros((x, y))"
   ]
  },
  {
   "cell_type": "code",
   "execution_count": 116,
   "metadata": {},
   "outputs": [],
   "source": [
    "def convolve(X, Y, Del2):\n",
    "    \n",
    "    X_conv = signal.convolve2d(X, Del2, mode='same')\n",
    "    Y_conv = signal.convolve2d(Y, Del2, mode='same')\n",
    "    \n",
    "    return X_conv, Y_conv"
   ]
  },
  {
   "cell_type": "code",
   "execution_count": 117,
   "metadata": {},
   "outputs": [],
   "source": [
    "def seeding(X, x_start, y_start, width, depth):\n",
    "    \n",
    "    x_end = x_start + width\n",
    "    y_end = y_start + depth\n",
    "    X[x_start:x_end, y_start:y_end] = 1\n",
    "    \n",
    "    return X\n",
    "\n",
    "startx = 200\n",
    "starty = 200\n",
    "w = 15\n",
    "d = 15\n",
    "B = seeding(B_no_seed, startx, starty, w, d)"
   ]
  },
  {
   "cell_type": "code",
   "execution_count": 118,
   "metadata": {},
   "outputs": [],
   "source": [
    "# def init():\n",
    "    \n",
    "#     pos.set_data(A)\n",
    "#     return pos,\n",
    "\n",
    "def reaction_diffusion(i):\n",
    "        \n",
    "        global A\n",
    "        global B\n",
    "        \n",
    "        for i in range(n):\n",
    "            \n",
    "            A_conv, B_conv = convolve(A, B, Del2)\n",
    "            A_new = A + (Da*A_conv - A*B**2 + f*(1-A))*dt\n",
    "            B_new = B + (Db*B_conv + A*B**2 - (k+f)*B)*dt\n",
    "\n",
    "            A = A_new\n",
    "            B = B_new\n",
    "        \n",
    "        pos.set_array(B_new)\n",
    "        \n",
    "        return pos,"
   ]
  },
  {
   "cell_type": "code",
   "execution_count": 119,
   "metadata": {},
   "outputs": [
    {
     "data": {
      "image/png": "[encoded data removed]",
      "text/plain": [
       "<Figure size 720x720 with 1 Axes>"
      ]
     },
     "metadata": {
      "needs_background": "light"
     },
     "output_type": "display_data"
    }
   ],
   "source": [
    "fig, ax = plt.subplots(figsize=(10, 10))\n",
    "pos = ax.imshow(B, cmap='viridis')\n",
    "\n",
    "anim = FuncAnimation(fig, reaction_diffusion, frames=range(n), blit=True)\n",
    "plt.show()"
   ]
  },
  {
   "cell_type": "code",
   "execution_count": null,
   "metadata": {},
   "outputs": [],
   "source": []
  }
 ],
 "metadata": {
  "kernelspec": {
   "display_name": "Python 3",
   "language": "python",
   "name": "python3"
  },
  "language_info": {
   "codemirror_mode": {
    "name": "ipython",
    "version": 3
   },
   "file_extension": ".py",
   "mimetype": "text/x-python",
   "name": "python",
   "nbconvert_exporter": "python",
   "pygments_lexer": "ipython3",
   "version": "3.7.6"
  }
 },
 "nbformat": 4,
 "nbformat_minor": 4
}
