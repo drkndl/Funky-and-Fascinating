{
 "cells": [
  {
   "cell_type": "code",
   "execution_count": 27,
   "metadata": {},
   "outputs": [],
   "source": [
    "import numpy as np\n",
    "import matplotlib.pyplot as plt\n",
    "from numpy import random"
   ]
  },
  {
   "cell_type": "code",
   "execution_count": 47,
   "metadata": {},
   "outputs": [
    {
     "data": {
      "image/png": "[encoded data removed]",
      "text/plain": [
       "<Figure size 432x288 with 1 Axes>"
      ]
     },
     "metadata": {
      "needs_background": "light"
     },
     "output_type": "display_data"
    },
    {
     "name": "stdout",
     "output_type": "stream",
     "text": [
      "3.08\n"
     ]
    }
   ],
   "source": [
    "#drawing a square of size 1x1\n",
    "xvalues=np.arange(0,1.1,0.1)\n",
    "yvalues=np.arange(0,1.1,0.1)\n",
    "zero=np.zeros(11)\n",
    "one=np.ones(11)\n",
    "#plt.plot(zero,yvalues, color='black')\n",
    "#plt.plot(xvalues, zero, color='black')\n",
    "plt.plot(one,yvalues, color='black')\n",
    "plt.plot(xvalues,one, color='black')\n",
    "\n",
    "#drawing a quarter circle of radius 1 unit\n",
    "circle=plt.Circle((0,0),1, facecolor='None', edgecolor='b')\n",
    "plt.gcf().gca().add_artist(circle)\n",
    "\n",
    "#generating random points\n",
    "num_points=100\n",
    "xpoints=random.rand(num_points)\n",
    "ypoints=random.rand(num_points)\n",
    "#print(xpoints)\n",
    "#print(ypoints)\n",
    "plt.scatter(xpoints, ypoints, color='red')\n",
    "#plt.show()\n",
    "\n",
    "#finding number of points inside circle\n",
    "incircle=[]\n",
    "count=0\n",
    "for item in range(len(xpoints)):\n",
    "    if (xpoints[item]**2+ypoints[item]**2)<=1:\n",
    "        count+=1\n",
    "        incircle.append(item)\n",
    "plt.scatter(xpoints[incircle],ypoints[incircle],color='green')\n",
    "plt.show()\n",
    "\n",
    "#calculating pi\n",
    "\"\"\"\n",
    "The formula behind this is: \n",
    "(Area of circle)/(Area of square) = (No. of points inside circle)/(No.of points inside square)\n",
    "(pi*r^2/4)/(a^2)=count/num_points\n",
    "Since r=a=1,\n",
    "pi=4*count/num_points\n",
    "\"\"\"\n",
    "\n",
    "pi=4*(count/num_points)\n",
    "print(pi)\n",
    "\n",
    "#for num_points=20, pi=2.8\n",
    "#for num_points=100, pi=3.12\n",
    "#for num_points=1000, pi=3.148\n",
    "#for num_points=5000, pi=3.1304\n",
    "#for num_points=10,000, pi=3.1528"
   ]
  },
  {
   "cell_type": "code",
   "execution_count": null,
   "metadata": {},
   "outputs": [],
   "source": []
  }
 ],
 "metadata": {
  "kernelspec": {
   "display_name": "Python 3",
   "language": "python",
   "name": "python3"
  },
  "language_info": {
   "codemirror_mode": {
    "name": "ipython",
    "version": 3
   },
   "file_extension": ".py",
   "mimetype": "text/x-python",
   "name": "python",
   "nbconvert_exporter": "python",
   "pygments_lexer": "ipython3",
   "version": "3.7.6"
  }
 },
 "nbformat": 4,
 "nbformat_minor": 4
}
