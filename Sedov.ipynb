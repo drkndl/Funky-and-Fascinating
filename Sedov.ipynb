{
 "cells": [
  {
   "cell_type": "code",
   "execution_count": 5,
   "metadata": {},
   "outputs": [],
   "source": [
    "from scipy.special import gamma as Gamma\n",
    "from numpy import power, arange, empty, float64, log, exp, pi, diff, inner, outer, array\n",
    "\n",
    "\n",
    "def calc_a(g,nu=3):\n",
    "    \"\"\" \n",
    "    exponents of the polynomials of the sedov solution\n",
    "    g - the polytropic gamma\n",
    "    nu - the dimension\n",
    "    \"\"\"\n",
    "    a = [0]*8\n",
    "   \n",
    "    a[0] = 2.0 / (nu + 2)\n",
    "    a[2] = (1-g) / (2*(g-1) + nu)\n",
    "    a[3] = nu / (2*(g-1) + nu)\n",
    "    a[5] = 2 / (g-2)\n",
    "    a[6] = g / (2*(g-1) + nu)\n",
    "   \n",
    "    a[1] = (((nu+2)*g)/(2.0+nu*(g-1.0)) ) * ( (2.0*nu*(2.0-g))/(g*(nu+2.0)**2) - a[2])\n",
    "    a[4] = a[1]*(nu+2) / (2-g)\n",
    "    a[7] = (2 + nu*(g-1))*a[1]/(nu*(2-g))\n",
    "    return a\n",
    "\n",
    "def calc_beta(v, g, nu=3):\n",
    "    \"\"\" \n",
    "    beta values for the sedov solution (coefficients of the polynomials of the similarity variables) \n",
    "    v - the similarity variable\n",
    "    g - the polytropic gamma\n",
    "    nu- the dimension\n",
    "    \"\"\"\n",
    "\n",
    "    beta = (nu+2) * (g+1) * array((0.25, (g/(g-1))*0.5,\n",
    "            -(2 + nu*(g-1))/2.0 / ((nu+2)*(g+1) -2*(2 + nu*(g-1))),\n",
    "     -0.5/(g-1)), dtype=float64)\n",
    "\n",
    "    beta = outer(beta, v)\n",
    "\n",
    "    beta += (g+1) * array((0.0,  -1.0/(g-1),\n",
    "                           (nu+2) / ((nu+2)*(g+1) -2.0*(2 + nu*(g-1))),\n",
    "                           1.0/(g-1)), dtype=float64).reshape((4,1))\n",
    "\n",
    "    return beta\n",
    "\n",
    "\n",
    "def sedov(t, E0, rho0, g, n=1000, nu=3):\n",
    "    \"\"\" \n",
    "    solve the sedov problem\n",
    "    t - the time\n",
    "    E0 - the initial energy\n",
    "    rho0 - the initial density\n",
    "    n - number of points (10000)\n",
    "    nu - the dimension\n",
    "    g - the polytropic gas gamma\n",
    "    \"\"\"\n",
    "    # the similarity variable\n",
    "    v_min = 2.0 / ((nu + 2) * g)\n",
    "    v_max = 4.0 / ((nu + 2) * (g + 1))\n",
    "\n",
    "    v = v_min + arange(n) * (v_max - v_min) / (n - 1.0)\n",
    "\n",
    "    a = calc_a(g, nu)\n",
    "    beta = calc_beta(v, g=g, nu=nu)\n",
    "    lbeta = log(beta)\n",
    "    \n",
    "    r = exp(-a[0] * lbeta[0] - a[2] * lbeta[1] - a[1] * lbeta[2])\n",
    "    rho = ((g + 1.0) / (g - 1.0)) * exp(a[3] * lbeta[1] + a[5] * lbeta[3] + a[4] * lbeta[2])\n",
    "    p = exp(nu * a[0] * lbeta[0] + (a[5] + 1) * lbeta[3] + (a[4] - 2 * a[1]) * lbeta[2])\n",
    "    u = beta[0] * r * 4.0 / ((g + 1) * (nu + 2))\n",
    "    p *= 8.0 / ((g + 1) * (nu + 2) * (nu + 2))\n",
    "\n",
    "    # we have to take extra care at v=v_min, since this can be a special point.\n",
    "    # It is not a singularity, however, the gradients of our variables (wrt v) are.\n",
    "    # r -> 0, u -> 0, rho -> 0, p-> constant\n",
    "\n",
    "    u[0] = 0.0; rho[0] = 0.0; r[0] = 0.0; p[0] = p[1]\n",
    "\n",
    "    # volume of an n-sphere\n",
    "    vol = (pi ** (nu / 2.0) / Gamma(nu / 2.0 + 1)) * power(r, nu)\n",
    "\n",
    "    # note we choose to evaluate the integral in this way because the\n",
    "    # volumes of the first few elements (i.e near v=vmin) are shrinking \n",
    "    # very slowly, so we dramatically improve the error convergence by \n",
    "    # finding the volumes exactly. This is most important for the\n",
    "    # pressure integral, as this is on the order of the volume.\n",
    "\n",
    "    # (dimensionless) energy of the model solution\n",
    "    de = rho * u * u * 0.5 + p / (g - 1)\n",
    "    # integrate (trapezium rule)\n",
    "    q = inner(de[1:] + de[:-1], diff(vol)) * 0.5\n",
    "\n",
    "    # the factor to convert to this particular problem\n",
    "    fac = (q * (t ** nu) * rho0 / E0) ** (-1.0 / (nu + 2))\n",
    "\n",
    "    # shock speed\n",
    "    shock_speed = fac * (2.0 / (nu + 2))\n",
    "    rho_s = ((g + 1) / (g - 1)) * rho0                                                                            \n",
    "    r_s = shock_speed * t * (nu + 2) / 2.0\n",
    "    p_s = (2.0 * rho0 * shock_speed * shock_speed) / (g + 1)\n",
    "    u_s = (2.0 * shock_speed) / (g + 1)\n",
    "    \n",
    "    r *= fac * t\n",
    "    u *= fac\n",
    "    p *= fac * fac * rho0\n",
    "    rho *= rho0\n",
    "    return r, p, rho, u, r_s, p_s, rho_s, u_s, shock_speed\n",
    "\n",
    "\n",
    "def test():\n",
    "    \"\"\" draw a 3d sedov solution \"\"\"\n",
    "    import pylab as pl\n",
    "    gamma = 5.0/3.0\n",
    "    r,p,rho,u,r_s,p_s,rho_s,u_s,shock_speed = \\\n",
    "        sedov(t=0.05, E0=5.0, rho0=5.0, g=gamma)\n",
    "\n",
    "    print('rho shock', rho_s)\n",
    "    print('p shock', p_s)\n",
    "    print('u shock', u_s)\n",
    "    print('r shock', r_s)\n",
    "\n",
    "    print('Dimensionless var (E/rho) t^2 r^-5', (5.0 /5.0)* 0.05**0.4 * r[-1]**-1.0)\n",
    "    vols = (4/3.0)*pi*r*r*r\n",
    "    dv = vols.copy()\n",
    "    dv[1:] = diff(dv)\n",
    "\n",
    "    # thermal and kinetic energy\n",
    "    te = (p*dv/(gamma-1))\n",
    "    ke = (rho*u*u*0.5*dv)\n",
    "    energy = te.sum() + ke.sum()\n",
    "    mass = 0.5*inner(rho[1:]+rho[:-1],dv[1:])\n",
    "\n",
    "    print('density', mass / (4/3.0 * pi * r_s**3))\n",
    "    print('energy', energy)\n",
    "    print('shock speed', shock_speed)\n",
    "    pl.plot(r/r_s,rho/rho_s, label=r'$\\rho/\\rho_s$')\n",
    "    pl.plot(r/r_s,p/p_s, label=r'$p/p_s$')\n",
    "    pl.plot(r/r_s,u/u_s, label=r'$u/u_s$')\n",
    "    pl.legend(loc='upper left')\n",
    "    pl.show()\n",
    "\n",
    "def test2():\n",
    "    \"\"\" test momentum and mass conservation in 3d \"\"\"\n",
    "    import pylab as pl\n",
    "    r,p,rho,u,r_s,p_s,rho_s,u_s,shock_speed = \\\n",
    "        sedov(t=0.05, E0=5.0, rho0=5.0, g=5.0/3.0,n=10000)\n",
    "\n",
    "    dt = 1e-5\n",
    "    r2,p2,rho2,u2 = sedov(t=0.05+dt, E0=5.0, rho0=5.0, g=5.0/3.0, n=9000)[:4]\n",
    "\n",
    "    # align the results\n",
    "    from numpy import interp, gradient\n",
    "    p2 = interp(r,r2,p2)\n",
    "    rho2 = interp(r,r2,rho2)\n",
    "    u2 = interp(r,r2,u2)\n",
    "\n",
    "    # mass conservation\n",
    "    pl.plot(r, -gradient(rho*u*r*r)/(r*r*gradient(r)), 'b', label=r'$\\frac{1}{r^2}\\frac{\\partial}{\\partial r} \\rho u r^2$')\n",
    "    pl.plot(r, (rho2-rho)/dt, 'k', label=r'$\\frac{\\partial \\rho}{\\partial t}$')\n",
    "\n",
    "    # momentum conservation\n",
    "    pl.plot(r, -gradient(p)/gradient(r), 'g',label=r'$-\\frac{\\partial p}{\\partial r}$')\n",
    "    pl.plot(r, rho*((u2-u)/dt+u*gradient(u)/gradient(r)), 'r',label=r'$\\rho \\left( \\frac{\\partial u}{\\partial t} + u\\frac{\\partial u}{\\partial r} \\right)$')\n",
    "\n",
    "    pl.legend(loc='lower left')\n",
    "    pl.show()        \n",
    "\n",
    "def test3():\n",
    "    \"\"\" draw a 2d sedov solution \"\"\"\n",
    "    import pylab as pl\n",
    "    r,p,rho,u,r_s,p_s,rho_s,u_s,shock_speed = sedov(t=1.2, E0=1, rho0=1, g=5.0/3.0, nu=2)\n",
    "\n",
    "    print('rho shock', rho_s)\n",
    "    print('p shock', p_s)\n",
    "    print('u shock', u_s)\n",
    "    print('r shock', r_s)\n",
    "  \n",
    "    area = pi*r*r\n",
    "    dv = area.copy()\n",
    "    dv[1:] = diff(dv)\n",
    "\n",
    "    # thermal and kinetic energy\n",
    "    te = (p*dv/(5.0/3.0-1))\n",
    "    ke = (rho*u*u*0.5*dv)\n",
    "    #pl.plot(arange(te.size), ke, 'x')\n",
    "    #pl.show()\n",
    "    print('r0', r[:2])\n",
    "    energy = te.sum() + ke.sum()\n",
    "    mass = 0.5*inner(rho[1:]+rho[:-1],dv[1:])\n",
    "\n",
    "    print('density', mass / (pi * r_s**2))\n",
    "    print('energy', energy)\n",
    "    print('shock speed', shock_speed)\n",
    "    pl.plot(r/r_s,rho/rho_s, 'b,',label=r'$\\rho/\\rho_s$')\n",
    "    pl.plot(r/r_s,p/p_s,'r',label=r'$p/p_s$')\n",
    "    pl.plot(r/r_s,u/u_s, 'g,',label=r'$u/u_s$')\n",
    "    pl.plot(r,rho,'b',label='$\\\\rho$')\n",
    "    pl.plot(r,u,'b',label='$u$')\n",
    "    pl.plot(r,p,'b',label='$P$')\n",
    "    pl.legend(loc='upper left')\n",
    "#    pl.xlim(0,2)\n",
    "#    pl.ylim(0,5)\n",
    "    pl.show()\n"
   ]
  },
  {
   "cell_type": "code",
   "execution_count": 6,
   "metadata": {},
   "outputs": [
    {
     "name": "stdout",
     "output_type": "stream",
     "text": [
      "rho shock 20.0\n",
      "p shock 28.97597527862182\n",
      "u shock 2.084801259543286\n",
      "r shock 0.34746687659054776\n",
      "Dimensionless var (E/rho) t^2 r^-5 0.868309577556624\n",
      "density 5.000220845432969\n",
      "energy 5.004759500170177\n",
      "shock speed 2.779735012724382\n"
     ]
    },
    {
     "data": {
      "image/png": "[encoded data removed]",
      "text/plain": [
       "<Figure size 432x288 with 1 Axes>"
      ]
     },
     "metadata": {
      "needs_background": "light"
     },
     "output_type": "display_data"
    }
   ],
   "source": [
    "test()"
   ]
  },
  {
   "cell_type": "code",
   "execution_count": 7,
   "metadata": {},
   "outputs": [
    {
     "name": "stderr",
     "output_type": "stream",
     "text": [
      "C:\\Users\\Drishika Nadella\\anaconda3\\lib\\site-packages\\ipykernel_launcher.py:156: RuntimeWarning: divide by zero encountered in true_divide\n"
     ]
    },
    {
     "data": {
      "image/png": "[encoded data removed]",
      "text/plain": [
       "<Figure size 432x288 with 1 Axes>"
      ]
     },
     "metadata": {
      "needs_background": "light"
     },
     "output_type": "display_data"
    }
   ],
   "source": [
    "test2()"
   ]
  },
  {
   "cell_type": "code",
   "execution_count": 8,
   "metadata": {},
   "outputs": [
    {
     "name": "stdout",
     "output_type": "stream",
     "text": [
      "rho shock 4.0\n",
      "p shock 0.20800130135447628\n",
      "u shock 0.39496958872279925\n",
      "r shock 1.2639026839129577\n",
      "r0 [0.         0.30745828]\n",
      "density 1.0001316058925762\n",
      "energy 1.0009102465291877\n",
      "shock speed 0.5266261182970657\n"
     ]
    },
    {
     "data": {
      "image/png": "[encoded data removed]",
      "text/plain": [
       "<Figure size 432x288 with 1 Axes>"
      ]
     },
     "metadata": {
      "needs_background": "light"
     },
     "output_type": "display_data"
    }
   ],
   "source": [
    "test3()\n"
   ]
  },
  {
   "cell_type": "code",
   "execution_count": null,
   "metadata": {},
   "outputs": [],
   "source": []
  }
 ],
 "metadata": {
  "kernelspec": {
   "display_name": "Python 3",
   "language": "python",
   "name": "python3"
  },
  "language_info": {
   "codemirror_mode": {
    "name": "ipython",
    "version": 3
   },
   "file_extension": ".py",
   "mimetype": "text/x-python",
   "name": "python",
   "nbconvert_exporter": "python",
   "pygments_lexer": "ipython3",
   "version": "3.7.6"
  }
 },
 "nbformat": 4,
 "nbformat_minor": 4
}
